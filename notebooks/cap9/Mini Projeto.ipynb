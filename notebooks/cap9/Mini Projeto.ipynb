{
 "cells": [
  {
   "cell_type": "code",
   "execution_count": 160,
   "metadata": {},
   "outputs": [],
   "source": [
    "# imports\n",
    "import os\n",
    "import subprocess\n",
    "import stat\n",
    "import numpy as np\n",
    "import pandas as pd\n",
    "import seaborn as sns\n",
    "import matplotlib as mat \n",
    "from matplotlib import pyplot as plt\n",
    "from datetime import datetime\n",
    "sns.set(style = \"white\")\n",
    "%matplotlib inline"
   ]
  },
  {
   "cell_type": "code",
   "execution_count": 161,
   "metadata": {},
   "outputs": [
    {
     "data": {
      "text/html": [
       "<div>\n",
       "<style scoped>\n",
       "    .dataframe tbody tr th:only-of-type {\n",
       "        vertical-align: middle;\n",
       "    }\n",
       "\n",
       "    .dataframe tbody tr th {\n",
       "        vertical-align: top;\n",
       "    }\n",
       "\n",
       "    .dataframe thead th {\n",
       "        text-align: right;\n",
       "    }\n",
       "</style>\n",
       "<table border=\"1\" class=\"dataframe\">\n",
       "  <thead>\n",
       "    <tr style=\"text-align: right;\">\n",
       "      <th></th>\n",
       "      <th>dateCrawled</th>\n",
       "      <th>name</th>\n",
       "      <th>seller</th>\n",
       "      <th>offerType</th>\n",
       "      <th>price</th>\n",
       "      <th>abtest</th>\n",
       "      <th>vehicleType</th>\n",
       "      <th>yearOfRegistration</th>\n",
       "      <th>gearbox</th>\n",
       "      <th>powerPS</th>\n",
       "      <th>...</th>\n",
       "      <th>postalCode</th>\n",
       "      <th>lastSeen</th>\n",
       "      <th>yearOfCreation</th>\n",
       "      <th>yearCrawled</th>\n",
       "      <th>monthOfCreation</th>\n",
       "      <th>monthCrawled</th>\n",
       "      <th>NoOfDaysOnline</th>\n",
       "      <th>NoOfHrsOnline</th>\n",
       "      <th>yearsOld</th>\n",
       "      <th>monthsOld</th>\n",
       "    </tr>\n",
       "  </thead>\n",
       "  <tbody>\n",
       "    <tr>\n",
       "      <th>0</th>\n",
       "      <td>2016-03-24 11:52:17</td>\n",
       "      <td>Golf_3_1.6</td>\n",
       "      <td>privat</td>\n",
       "      <td>Offer</td>\n",
       "      <td>480</td>\n",
       "      <td>test</td>\n",
       "      <td>Other</td>\n",
       "      <td>1993</td>\n",
       "      <td>manuell</td>\n",
       "      <td>0</td>\n",
       "      <td>...</td>\n",
       "      <td>70435</td>\n",
       "      <td>2016-04-07 03:16:57</td>\n",
       "      <td>2016</td>\n",
       "      <td>2016</td>\n",
       "      <td>March</td>\n",
       "      <td>March</td>\n",
       "      <td>14</td>\n",
       "      <td>3</td>\n",
       "      <td>23</td>\n",
       "      <td>11</td>\n",
       "    </tr>\n",
       "    <tr>\n",
       "      <th>1</th>\n",
       "      <td>2016-03-23 10:58:45</td>\n",
       "      <td>A5_Sportback_2.7_Tdi</td>\n",
       "      <td>privat</td>\n",
       "      <td>Offer</td>\n",
       "      <td>18300</td>\n",
       "      <td>test</td>\n",
       "      <td>coupe</td>\n",
       "      <td>2011</td>\n",
       "      <td>manuell</td>\n",
       "      <td>190</td>\n",
       "      <td>...</td>\n",
       "      <td>66954</td>\n",
       "      <td>2016-04-07 01:46:50</td>\n",
       "      <td>2016</td>\n",
       "      <td>2016</td>\n",
       "      <td>March</td>\n",
       "      <td>March</td>\n",
       "      <td>14</td>\n",
       "      <td>1</td>\n",
       "      <td>5</td>\n",
       "      <td>7</td>\n",
       "    </tr>\n",
       "    <tr>\n",
       "      <th>2</th>\n",
       "      <td>2016-03-14 12:52:21</td>\n",
       "      <td>Jeep_Grand_Cherokee_\"Overland\"</td>\n",
       "      <td>privat</td>\n",
       "      <td>Offer</td>\n",
       "      <td>9800</td>\n",
       "      <td>test</td>\n",
       "      <td>suv</td>\n",
       "      <td>2004</td>\n",
       "      <td>automatik</td>\n",
       "      <td>163</td>\n",
       "      <td>...</td>\n",
       "      <td>90480</td>\n",
       "      <td>2016-04-04 12:47:46</td>\n",
       "      <td>2016</td>\n",
       "      <td>2016</td>\n",
       "      <td>March</td>\n",
       "      <td>March</td>\n",
       "      <td>22</td>\n",
       "      <td>12</td>\n",
       "      <td>12</td>\n",
       "      <td>4</td>\n",
       "    </tr>\n",
       "    <tr>\n",
       "      <th>3</th>\n",
       "      <td>2016-03-17 16:54:04</td>\n",
       "      <td>GOLF_4_1_4__3TÃRER</td>\n",
       "      <td>privat</td>\n",
       "      <td>Offer</td>\n",
       "      <td>1500</td>\n",
       "      <td>test</td>\n",
       "      <td>kleinwagen</td>\n",
       "      <td>2001</td>\n",
       "      <td>manuell</td>\n",
       "      <td>75</td>\n",
       "      <td>...</td>\n",
       "      <td>91074</td>\n",
       "      <td>2016-03-17 17:40:17</td>\n",
       "      <td>2016</td>\n",
       "      <td>2016</td>\n",
       "      <td>March</td>\n",
       "      <td>March</td>\n",
       "      <td>0</td>\n",
       "      <td>17</td>\n",
       "      <td>15</td>\n",
       "      <td>5</td>\n",
       "    </tr>\n",
       "    <tr>\n",
       "      <th>4</th>\n",
       "      <td>2016-03-31 17:25:20</td>\n",
       "      <td>Skoda_Fabia_1.4_TDI_PD_Classic</td>\n",
       "      <td>privat</td>\n",
       "      <td>Offer</td>\n",
       "      <td>3600</td>\n",
       "      <td>test</td>\n",
       "      <td>kleinwagen</td>\n",
       "      <td>2008</td>\n",
       "      <td>manuell</td>\n",
       "      <td>69</td>\n",
       "      <td>...</td>\n",
       "      <td>60437</td>\n",
       "      <td>2016-04-06 10:17:21</td>\n",
       "      <td>2016</td>\n",
       "      <td>2016</td>\n",
       "      <td>March</td>\n",
       "      <td>March</td>\n",
       "      <td>6</td>\n",
       "      <td>10</td>\n",
       "      <td>8</td>\n",
       "      <td>5</td>\n",
       "    </tr>\n",
       "  </tbody>\n",
       "</table>\n",
       "<p>5 rows × 27 columns</p>\n",
       "</div>"
      ],
      "text/plain": [
       "           dateCrawled                            name  seller offerType  \\\n",
       "0  2016-03-24 11:52:17                      Golf_3_1.6  privat     Offer   \n",
       "1  2016-03-23 10:58:45            A5_Sportback_2.7_Tdi  privat     Offer   \n",
       "2  2016-03-14 12:52:21  Jeep_Grand_Cherokee_\"Overland\"  privat     Offer   \n",
       "3  2016-03-17 16:54:04             GOLF_4_1_4__3TÃRER  privat     Offer   \n",
       "4  2016-03-31 17:25:20  Skoda_Fabia_1.4_TDI_PD_Classic  privat     Offer   \n",
       "\n",
       "   price abtest vehicleType  yearOfRegistration    gearbox  powerPS  \\\n",
       "0    480   test       Other                1993    manuell        0   \n",
       "1  18300   test       coupe                2011    manuell      190   \n",
       "2   9800   test         suv                2004  automatik      163   \n",
       "3   1500   test  kleinwagen                2001    manuell       75   \n",
       "4   3600   test  kleinwagen                2008    manuell       69   \n",
       "\n",
       "     ...     postalCode             lastSeen yearOfCreation yearCrawled  \\\n",
       "0    ...          70435  2016-04-07 03:16:57           2016        2016   \n",
       "1    ...          66954  2016-04-07 01:46:50           2016        2016   \n",
       "2    ...          90480  2016-04-04 12:47:46           2016        2016   \n",
       "3    ...          91074  2016-03-17 17:40:17           2016        2016   \n",
       "4    ...          60437  2016-04-06 10:17:21           2016        2016   \n",
       "\n",
       "  monthOfCreation monthCrawled NoOfDaysOnline  NoOfHrsOnline yearsOld  \\\n",
       "0           March        March             14              3       23   \n",
       "1           March        March             14              1        5   \n",
       "2           March        March             22             12       12   \n",
       "3           March        March              0             17       15   \n",
       "4           March        March              6             10        8   \n",
       "\n",
       "   monthsOld  \n",
       "0         11  \n",
       "1          7  \n",
       "2          4  \n",
       "3          5  \n",
       "4          5  \n",
       "\n",
       "[5 rows x 27 columns]"
      ]
     },
     "execution_count": 161,
     "metadata": {},
     "output_type": "execute_result"
    }
   ],
   "source": [
    "data = pd.read_csv('autos.csv', sep=',', low_memory=False, encoding = \"ISO-8859-1\")\n",
    "data.head()"
   ]
  },
  {
   "cell_type": "code",
   "execution_count": 162,
   "metadata": {},
   "outputs": [
    {
     "data": {
      "text/plain": [
       "[RangeIndex(start=0, stop=313687, step=1),\n",
       " Index(['dateCrawled', 'name', 'seller', 'offerType', 'price', 'abtest',\n",
       "        'vehicleType', 'yearOfRegistration', 'gearbox', 'powerPS', 'model',\n",
       "        'kilometer', 'monthOfRegistration', 'fuelType', 'brand',\n",
       "        'notRepairedDamage', 'dateCreated', 'postalCode', 'lastSeen',\n",
       "        'yearOfCreation', 'yearCrawled', 'monthOfCreation', 'monthCrawled',\n",
       "        'NoOfDaysOnline', 'NoOfHrsOnline', 'yearsOld', 'monthsOld'],\n",
       "       dtype='object')]"
      ]
     },
     "execution_count": 162,
     "metadata": {},
     "output_type": "execute_result"
    }
   ],
   "source": [
    "data.axes"
   ]
  },
  {
   "cell_type": "markdown",
   "metadata": {},
   "source": [
    "## Distribuição de Veículos com base no Ano de Registro"
   ]
  },
  {
   "cell_type": "code",
   "execution_count": 176,
   "metadata": {},
   "outputs": [
    {
     "data": {
      "image/png": "[encoded data removed]",
      "text/plain": [
       "<Figure size 960x640 with 1 Axes>"
      ]
     },
     "metadata": {},
     "output_type": "display_data"
    }
   ],
   "source": [
    "plt.figure(figsize=(12,8),dpi=80)\n",
    "plt.hist(data['yearOfRegistration'][:50],density=True,bins=50)\n",
    "plt.xlabel('Ano de Registro')\n",
    "plt.ylabel('Densidade (KDE)')\n",
    "plt.title(\"Distribuição de Veículos com base no Ano de Registro\")\n",
    "plt.show()"
   ]
  },
  {
   "cell_type": "markdown",
   "metadata": {},
   "source": [
    "## Contagem total de veículos à venda conforme o tipo de veículo"
   ]
  },
  {
   "cell_type": "code",
   "execution_count": 167,
   "metadata": {},
   "outputs": [
    {
     "data": {
      "text/html": [
       "<div>\n",
       "<style scoped>\n",
       "    .dataframe tbody tr th:only-of-type {\n",
       "        vertical-align: middle;\n",
       "    }\n",
       "\n",
       "    .dataframe tbody tr th {\n",
       "        vertical-align: top;\n",
       "    }\n",
       "\n",
       "    .dataframe thead th {\n",
       "        text-align: right;\n",
       "    }\n",
       "</style>\n",
       "<table border=\"1\" class=\"dataframe\">\n",
       "  <thead>\n",
       "    <tr style=\"text-align: right;\">\n",
       "      <th></th>\n",
       "      <th>vehicleType</th>\n",
       "    </tr>\n",
       "  </thead>\n",
       "  <tbody>\n",
       "    <tr>\n",
       "      <th>limousine</th>\n",
       "      <td>84077</td>\n",
       "    </tr>\n",
       "    <tr>\n",
       "      <th>kleinwagen</th>\n",
       "      <td>69334</td>\n",
       "    </tr>\n",
       "    <tr>\n",
       "      <th>kombi</th>\n",
       "      <td>60195</td>\n",
       "    </tr>\n",
       "    <tr>\n",
       "      <th>bus</th>\n",
       "      <td>26833</td>\n",
       "    </tr>\n",
       "    <tr>\n",
       "      <th>cabrio</th>\n",
       "      <td>20388</td>\n",
       "    </tr>\n",
       "  </tbody>\n",
       "</table>\n",
       "</div>"
      ],
      "text/plain": [
       "            vehicleType\n",
       "limousine         84077\n",
       "kleinwagen        69334\n",
       "kombi             60195\n",
       "bus               26833\n",
       "cabrio            20388"
      ]
     },
     "execution_count": 167,
     "metadata": {},
     "output_type": "execute_result"
    }
   ],
   "source": [
    "# Calcule a média de cada feature para as 3 classes\n",
    "df= pd.DataFrame(data['vehicleType'].value_counts(dropna=False))\n",
    "df.head()"
   ]
  },
  {
   "cell_type": "code",
   "execution_count": 175,
   "metadata": {},
   "outputs": [
    {
     "data": {
      "image/png": "[encoded data removed]",
      "text/plain": [
       "<Figure size 960x640 with 1 Axes>"
      ]
     },
     "metadata": {},
     "output_type": "display_data"
    }
   ],
   "source": [
    "plt.figure(figsize=(12,8),dpi=80)\n",
    "plt.bar(df.index,df['vehicleType'])\n",
    "plt.grid()\n",
    "plt.show()"
   ]
  },
  {
   "cell_type": "code",
   "execution_count": null,
   "metadata": {},
   "outputs": [],
   "source": []
  }
 ],
 "metadata": {
  "kernelspec": {
   "display_name": "Python 3",
   "language": "python",
   "name": "python3"
  },
  "language_info": {
   "codemirror_mode": {
    "name": "ipython",
    "version": 3
   },
   "file_extension": ".py",
   "mimetype": "text/x-python",
   "name": "python",
   "nbconvert_exporter": "python",
   "pygments_lexer": "ipython3",
   "version": "3.6.5"
  }
 },
 "nbformat": 4,
 "nbformat_minor": 2
}
