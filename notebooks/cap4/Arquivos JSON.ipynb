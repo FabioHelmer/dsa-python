{
 "cells": [
  {
   "cell_type": "markdown",
   "metadata": {},
   "source": [
    "# Manipulando arquivos JSON"
   ]
  },
  {
   "cell_type": "markdown",
   "metadata": {},
   "source": [
    "json é uma ,maneira de armazenar informações de forma organizada e de fácil acesso. Em poucas palavras, ele nos dá uma coleção legivel de dados que podem ser acessados de forma muito lógica. Pode ser uma fonte de Big Data"
   ]
  },
  {
   "cell_type": "code",
   "execution_count": 2,
   "metadata": {},
   "outputs": [],
   "source": [
    "# criando um dicionario\n",
    "dic = {\n",
    "    'nome':'fabio',\n",
    "    'linguagem':'Python',\n",
    "    'similar':['c','modula-3','lisp'],\n",
    "    'users':1000000\n",
    "}"
   ]
  },
  {
   "cell_type": "code",
   "execution_count": 6,
   "metadata": {},
   "outputs": [
    {
     "name": "stdout",
     "output_type": "stream",
     "text": [
      "nome fabio\n",
      "linguagem Python\n",
      "similar ['c', 'modula-3', 'lisp']\n",
      "users 1000000\n"
     ]
    }
   ],
   "source": [
    "for k,v in dic.items():\n",
    "    print(k,v)"
   ]
  },
  {
   "cell_type": "code",
   "execution_count": 7,
   "metadata": {},
   "outputs": [],
   "source": [
    "#importando o modul json\n",
    "import json"
   ]
  },
  {
   "cell_type": "code",
   "execution_count": 8,
   "metadata": {},
   "outputs": [
    {
     "data": {
      "text/plain": [
       "'{\"nome\": \"fabio\", \"linguagem\": \"Python\", \"similar\": [\"c\", \"modula-3\", \"lisp\"], \"users\": 1000000}'"
      ]
     },
     "execution_count": 8,
     "metadata": {},
     "output_type": "execute_result"
    }
   ],
   "source": [
    "# convertndo o dicionario para objeto json\n",
    "json.dumps(dic)"
   ]
  },
  {
   "cell_type": "code",
   "execution_count": 9,
   "metadata": {},
   "outputs": [],
   "source": [
    "# criando um file json\n",
    "file_name = 'arquivos/dados.json'\n",
    "with open (file_name,'w') as file:\n",
    "    file.write(json.dumps(dic))"
   ]
  },
  {
   "cell_type": "code",
   "execution_count": 11,
   "metadata": {},
   "outputs": [
    {
     "name": "stdout",
     "output_type": "stream",
     "text": [
      "{'nome': 'fabio', 'linguagem': 'Python', 'similar': ['c', 'modula-3', 'lisp'], 'users': 1000000}\n"
     ]
    }
   ],
   "source": [
    "#leitura de arquivos json\n",
    "with open(file_name,'r') as file:\n",
    "    txt = file.read()\n",
    "    data = json.loads(txt)\n",
    "print(data)"
   ]
  },
  {
   "cell_type": "code",
   "execution_count": 12,
   "metadata": {},
   "outputs": [
    {
     "name": "stdout",
     "output_type": "stream",
     "text": [
      "fabio\n"
     ]
    }
   ],
   "source": [
    "print(data['nome'])"
   ]
  },
  {
   "cell_type": "code",
   "execution_count": 19,
   "metadata": {},
   "outputs": [],
   "source": [
    "#imprimindo um file json copiado da internet\n",
    "\n",
    "from urllib.request import urlopen\n",
    "response = urlopen('http://vimeo.com/api/v2/video/57733101.json').read().decode('utf8')\n",
    "data = json.loads(response)[0]\n"
   ]
  },
  {
   "cell_type": "code",
   "execution_count": 20,
   "metadata": {},
   "outputs": [
    {
     "name": "stdout",
     "output_type": "stream",
     "text": [
      "tirulo: The Good Man trailer\n",
      "URL:  https://vimeo.com/57733101\n",
      "Duração:  143\n",
      "Numero de validação:  5907\n"
     ]
    }
   ],
   "source": [
    "print('tirulo:',data['title'])\n",
    "print('URL: ',data['url'])\n",
    "print('Duração: ',data['duration'])\n",
    "print('Numero de validação: ',data['stats_number_of_plays'])"
   ]
  },
  {
   "cell_type": "code",
   "execution_count": 21,
   "metadata": {},
   "outputs": [],
   "source": [
    "# copiando o conteudo do file para outro\n",
    "import os\n",
    "\n",
    "file_fonte=file_name\n",
    "file_destino='arquivos/json_data.txt'"
   ]
  },
  {
   "cell_type": "code",
   "execution_count": 22,
   "metadata": {},
   "outputs": [],
   "source": [
    "#metdodo 1\n",
    "with open(file_fonte,'r') as infile:\n",
    "    txt = infile.read()\n",
    "    with open(file_destino,'w') as outfile:\n",
    "        outfile.write(txt)\n",
    "        "
   ]
  },
  {
   "cell_type": "code",
   "execution_count": 23,
   "metadata": {},
   "outputs": [
    {
     "data": {
      "text/plain": [
       "96"
      ]
     },
     "execution_count": 23,
     "metadata": {},
     "output_type": "execute_result"
    }
   ],
   "source": [
    "#metodo 2\n",
    "open(file_destino,'w').write(open(file_fonte,'r').read())"
   ]
  },
  {
   "cell_type": "code",
   "execution_count": 24,
   "metadata": {},
   "outputs": [],
   "source": [
    "#leitura\n",
    "with open(file_destino,'r') as file:\n",
    "    txt = file.read()\n",
    "    data = json.loads(txt)"
   ]
  },
  {
   "cell_type": "code",
   "execution_count": 25,
   "metadata": {},
   "outputs": [
    {
     "name": "stdout",
     "output_type": "stream",
     "text": [
      "{'nome': 'fabio', 'linguagem': 'Python', 'similar': ['c', 'modula-3', 'lisp'], 'users': 1000000}\n"
     ]
    }
   ],
   "source": [
    "print(data)"
   ]
  }
 ],
 "metadata": {
  "kernelspec": {
   "display_name": "Python 3",
   "language": "python",
   "name": "python3"
  },
  "language_info": {
   "codemirror_mode": {
    "name": "ipython",
    "version": 3
   },
   "file_extension": ".py",
   "mimetype": "text/x-python",
   "name": "python",
   "nbconvert_exporter": "python",
   "pygments_lexer": "ipython3",
   "version": "3.6.5"
  }
 },
 "nbformat": 4,
 "nbformat_minor": 2
}
