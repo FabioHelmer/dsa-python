{
 "cells": [
  {
   "cell_type": "markdown",
   "metadata": {},
   "source": [
    "# manipulando Arquivos CSV\n"
   ]
  },
  {
   "cell_type": "code",
   "execution_count": 7,
   "metadata": {},
   "outputs": [],
   "source": [
    "# importando o modulo csv\n",
    "import csv\n",
    "file_name ='arquivos/numeros.csv'"
   ]
  },
  {
   "cell_type": "code",
   "execution_count": 12,
   "metadata": {},
   "outputs": [],
   "source": [
    "with open(file_name,'w') as file:\n",
    "    writer = csv.writer(file)\n",
    "    writer.writerow(('primeira','segunda','terceira'))\n",
    "    writer.writerow((55, 93, 76))\n",
    "    writer.writerow((62, 14, 86))"
   ]
  },
  {
   "cell_type": "code",
   "execution_count": 19,
   "metadata": {},
   "outputs": [
    {
     "name": "stdout",
     "output_type": "stream",
     "text": [
      "Números de colunas:  3\n",
      "['primeira', 'segunda', 'terceira']\n",
      "Números de colunas:  3\n",
      "['55', '93', '76']\n",
      "Números de colunas:  3\n",
      "['62', '14', '86']\n"
     ]
    }
   ],
   "source": [
    "#leitura do file csv\n",
    "with open(file_name,'r') as file:\n",
    "    leitor = csv.reader(file)\n",
    "    for x in leitor:\n",
    "        print('Números de colunas: ',len(x))\n",
    "        print(x)\n",
    "        "
   ]
  },
  {
   "cell_type": "code",
   "execution_count": 20,
   "metadata": {},
   "outputs": [
    {
     "name": "stdout",
     "output_type": "stream",
     "text": [
      "[['primeira', 'segunda', 'terceira'], ['55', '93', '76'], ['62', '14', '86']]\n"
     ]
    }
   ],
   "source": [
    "#gerando uma lista com dados do file.csv\n",
    "with open(file_name,'r') as file:\n",
    "    leitor =csv.reader(file)\n",
    "    dados =list(leitor)\n",
    "print(dados)"
   ]
  },
  {
   "cell_type": "code",
   "execution_count": 21,
   "metadata": {},
   "outputs": [
    {
     "name": "stdout",
     "output_type": "stream",
     "text": [
      "['55', '93', '76']\n",
      "['62', '14', '86']\n"
     ]
    }
   ],
   "source": [
    "#imprimindo a partir da segunda linha\n",
    "for linha  in dados[1:]:\n",
    "    print(linha)"
   ]
  }
 ],
 "metadata": {
  "kernelspec": {
   "display_name": "Python 3",
   "language": "python",
   "name": "python3"
  },
  "language_info": {
   "codemirror_mode": {
    "name": "ipython",
    "version": 3
   },
   "file_extension": ".py",
   "mimetype": "text/x-python",
   "name": "python",
   "nbconvert_exporter": "python",
   "pygments_lexer": "ipython3",
   "version": "3.6.5"
  }
 },
 "nbformat": 4,
 "nbformat_minor": 2
}
