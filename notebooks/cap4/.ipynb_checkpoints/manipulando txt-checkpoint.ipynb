{
 "cells": [
  {
   "cell_type": "markdown",
   "metadata": {},
   "source": [
    "# Manipulando file txt"
   ]
  },
  {
   "cell_type": "code",
   "execution_count": 1,
   "metadata": {},
   "outputs": [],
   "source": [
    "txt= \"Cientita de dados é a profissão que mais tem crescido em todo mundo.\\n \"\n",
    "txt = txt + \"Esses profissionais precisam se especializar em Programação, Estatistica e Machine Learning.\\n\"\n",
    "txt +=\"E claro, em Big Data\""
   ]
  },
  {
   "cell_type": "code",
   "execution_count": 4,
   "metadata": {},
   "outputs": [
    {
     "name": "stdout",
     "output_type": "stream",
     "text": [
      "Cientita de dados é a profissão que mais tem crescido em todo mundo.\n",
      " Esses profissionais precisam se especializar em Programação, Estatistica e Machine Learning.\n",
      "E claro, em Big Data\n"
     ]
    }
   ],
   "source": [
    "print(txt)"
   ]
  },
  {
   "cell_type": "code",
   "execution_count": 5,
   "metadata": {},
   "outputs": [],
   "source": [
    "# importar o modulo OS\n",
    "import os"
   ]
  },
  {
   "cell_type": "code",
   "execution_count": 6,
   "metadata": {},
   "outputs": [],
   "source": [
    "#cirando file\n",
    "file  = open(os.path.join('arquivos/cientistas.txt'),'w')"
   ]
  },
  {
   "cell_type": "code",
   "execution_count": 8,
   "metadata": {},
   "outputs": [],
   "source": [
    "# gravando os dados no arquivo\n",
    "for palavra in txt.split():\n",
    "    file.write(palavra+' ')"
   ]
  },
  {
   "cell_type": "code",
   "execution_count": 9,
   "metadata": {},
   "outputs": [],
   "source": [
    "# fechamento do file\n",
    "file.close()"
   ]
  },
  {
   "cell_type": "code",
   "execution_count": 11,
   "metadata": {},
   "outputs": [
    {
     "name": "stdout",
     "output_type": "stream",
     "text": [
      "Cientita de dados é a profissão que mais tem crescido em todo mundo. Esses profissionais precisam se especializar em Programação, Estatistica e Machine Learning. E claro, em Big Data \n"
     ]
    }
   ],
   "source": [
    "#lendo o arquivo\n",
    "file  = open('arquivos/cientistas.txt','r')\n",
    "conteudo=file.read()\n",
    "file.close()\n",
    "\n",
    "print(conteudo)"
   ]
  },
  {
   "cell_type": "markdown",
   "metadata": {},
   "source": [
    "#### Usando a expressão With"
   ]
  },
  {
   "cell_type": "markdown",
   "metadata": {},
   "source": [
    "O metodo close() é executado automaticamente"
   ]
  },
  {
   "cell_type": "code",
   "execution_count": 13,
   "metadata": {},
   "outputs": [],
   "source": [
    "with open('arquivos/cientistas.txt','r') as file:\n",
    "    conteudo = file.read()"
   ]
  },
  {
   "cell_type": "code",
   "execution_count": 14,
   "metadata": {},
   "outputs": [
    {
     "name": "stdout",
     "output_type": "stream",
     "text": [
      "183\n"
     ]
    }
   ],
   "source": [
    "print(len(conteudo))"
   ]
  },
  {
   "cell_type": "code",
   "execution_count": 15,
   "metadata": {},
   "outputs": [
    {
     "name": "stdout",
     "output_type": "stream",
     "text": [
      "Cientita de dados é a profissão que mais tem crescido em todo mundo. Esses profissionais precisam se especializar em Programação, Estatistica e Machine Learning. E claro, em Big Data \n"
     ]
    }
   ],
   "source": [
    "print(conteudo)"
   ]
  },
  {
   "cell_type": "code",
   "execution_count": 16,
   "metadata": {},
   "outputs": [],
   "source": [
    "with open ('arquivos/cientistas.txt','w') as file:\n",
    "    file.write(txt[:21])\n",
    "    file.write('\\n')\n",
    "    file.write(txt[:33])"
   ]
  },
  {
   "cell_type": "code",
   "execution_count": 17,
   "metadata": {},
   "outputs": [
    {
     "name": "stdout",
     "output_type": "stream",
     "text": [
      "Cientita de dados é a\n",
      "Cientita de dados é a profissão q\n"
     ]
    }
   ],
   "source": [
    "# lendo o file\n",
    "file = open('arquivos/cientistas.txt','r')\n",
    "conteudo = file.read()\n",
    "file.close()\n",
    "\n",
    "print(conteudo)"
   ]
  }
 ],
 "metadata": {
  "kernelspec": {
   "display_name": "Python 3",
   "language": "python",
   "name": "python3"
  },
  "language_info": {
   "codemirror_mode": {
    "name": "ipython",
    "version": 3
   },
   "file_extension": ".py",
   "mimetype": "text/x-python",
   "name": "python",
   "nbconvert_exporter": "python",
   "pygments_lexer": "ipython3",
   "version": "3.6.5"
  }
 },
 "nbformat": 4,
 "nbformat_minor": 2
}
