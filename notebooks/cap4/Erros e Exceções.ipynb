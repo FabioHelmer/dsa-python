{
 "cells": [
  {
   "cell_type": "markdown",
   "metadata": {},
   "source": [
    "# Erros e exceções"
   ]
  },
  {
   "cell_type": "code",
   "execution_count": 2,
   "metadata": {},
   "outputs": [
    {
     "ename": "SyntaxError",
     "evalue": "EOL while scanning string literal (<ipython-input-2-ea6faaa0c51d>, line 2)",
     "output_type": "error",
     "traceback": [
      "\u001b[1;36m  File \u001b[1;32m\"<ipython-input-2-ea6faaa0c51d>\"\u001b[1;36m, line \u001b[1;32m2\u001b[0m\n\u001b[1;33m    print('ola)\u001b[0m\n\u001b[1;37m               ^\u001b[0m\n\u001b[1;31mSyntaxError\u001b[0m\u001b[1;31m:\u001b[0m EOL while scanning string literal\n"
     ]
    }
   ],
   "source": [
    "# erro\n",
    "print('ola)"
   ]
  },
  {
   "cell_type": "code",
   "execution_count": 3,
   "metadata": {},
   "outputs": [],
   "source": [
    "#criando uma função\n",
    "def numDiv(num1,num2):\n",
    "    resultado= num1 /num2\n",
    "    print(resultado)"
   ]
  },
  {
   "cell_type": "code",
   "execution_count": 4,
   "metadata": {},
   "outputs": [
    {
     "name": "stdout",
     "output_type": "stream",
     "text": [
      "2.0\n"
     ]
    }
   ],
   "source": [
    "#execução não gera erro\n",
    "numDiv(4,2)"
   ]
  },
  {
   "cell_type": "code",
   "execution_count": 5,
   "metadata": {},
   "outputs": [
    {
     "ename": "ZeroDivisionError",
     "evalue": "division by zero",
     "output_type": "error",
     "traceback": [
      "\u001b[1;31m---------------------------------------------------------------------------\u001b[0m",
      "\u001b[1;31mZeroDivisionError\u001b[0m                         Traceback (most recent call last)",
      "\u001b[1;32m<ipython-input-5-a7bf40380e90>\u001b[0m in \u001b[0;36m<module>\u001b[1;34m()\u001b[0m\n\u001b[0;32m      1\u001b[0m \u001b[1;31m#execução  gerando erro]\u001b[0m\u001b[1;33m\u001b[0m\u001b[1;33m\u001b[0m\u001b[0m\n\u001b[1;32m----> 2\u001b[1;33m \u001b[0mnumDiv\u001b[0m\u001b[1;33m(\u001b[0m\u001b[1;36m4\u001b[0m\u001b[1;33m,\u001b[0m\u001b[1;36m0\u001b[0m\u001b[1;33m)\u001b[0m\u001b[1;33m\u001b[0m\u001b[0m\n\u001b[0m",
      "\u001b[1;32m<ipython-input-3-d3941c41ec22>\u001b[0m in \u001b[0;36mnumDiv\u001b[1;34m(num1, num2)\u001b[0m\n\u001b[0;32m      1\u001b[0m \u001b[1;31m#criando uma função\u001b[0m\u001b[1;33m\u001b[0m\u001b[1;33m\u001b[0m\u001b[0m\n\u001b[0;32m      2\u001b[0m \u001b[1;32mdef\u001b[0m \u001b[0mnumDiv\u001b[0m\u001b[1;33m(\u001b[0m\u001b[0mnum1\u001b[0m\u001b[1;33m,\u001b[0m\u001b[0mnum2\u001b[0m\u001b[1;33m)\u001b[0m\u001b[1;33m:\u001b[0m\u001b[1;33m\u001b[0m\u001b[0m\n\u001b[1;32m----> 3\u001b[1;33m     \u001b[0mresultado\u001b[0m\u001b[1;33m=\u001b[0m \u001b[0mnum1\u001b[0m \u001b[1;33m/\u001b[0m\u001b[0mnum2\u001b[0m\u001b[1;33m\u001b[0m\u001b[0m\n\u001b[0m\u001b[0;32m      4\u001b[0m     \u001b[0mprint\u001b[0m\u001b[1;33m(\u001b[0m\u001b[0mresultado\u001b[0m\u001b[1;33m)\u001b[0m\u001b[1;33m\u001b[0m\u001b[0m\n",
      "\u001b[1;31mZeroDivisionError\u001b[0m: division by zero"
     ]
    }
   ],
   "source": [
    "#execução gerando erro\n",
    "numDiv(4,0)"
   ]
  },
  {
   "cell_type": "markdown",
   "metadata": {},
   "source": [
    "# Try, Excepi, Finally"
   ]
  },
  {
   "cell_type": "code",
   "execution_count": 6,
   "metadata": {},
   "outputs": [
    {
     "ename": "TypeError",
     "evalue": "unsupported operand type(s) for +: 'int' and 'str'",
     "output_type": "error",
     "traceback": [
      "\u001b[1;31m---------------------------------------------------------------------------\u001b[0m",
      "\u001b[1;31mTypeError\u001b[0m                                 Traceback (most recent call last)",
      "\u001b[1;32m<ipython-input-6-963470595b1e>\u001b[0m in \u001b[0;36m<module>\u001b[1;34m()\u001b[0m\n\u001b[1;32m----> 1\u001b[1;33m \u001b[1;36m8\u001b[0m \u001b[1;33m+\u001b[0m \u001b[1;34m's'\u001b[0m\u001b[1;33m\u001b[0m\u001b[0m\n\u001b[0m",
      "\u001b[1;31mTypeError\u001b[0m: unsupported operand type(s) for +: 'int' and 'str'"
     ]
    }
   ],
   "source": [
    "8 + 's'"
   ]
  },
  {
   "cell_type": "code",
   "execution_count": 8,
   "metadata": {},
   "outputs": [
    {
     "name": "stdout",
     "output_type": "stream",
     "text": [
      "operação não permitida\n"
     ]
    }
   ],
   "source": [
    "# utilizando try e except\n",
    "try:\n",
    "    8+'s'\n",
    "except TypeError:\n",
    "    print(\"operação não permitida\")\n"
   ]
  },
  {
   "cell_type": "code",
   "execution_count": 9,
   "metadata": {},
   "outputs": [
    {
     "name": "stdout",
     "output_type": "stream",
     "text": [
      "conteudo gravado\n"
     ]
    }
   ],
   "source": [
    "# utilizando try, except, else\n",
    "try:\n",
    "    f =open('arquivos/testandoErros.txt','w')\n",
    "    f.write('Gravando no arquivo')\n",
    "except IOError:\n",
    "    print(\"erro: arquivo não encontrado ou não pode ser salvo.\")\n",
    "else:\n",
    "    print(\"conteudo gravado\")\n",
    "    f.close()"
   ]
  },
  {
   "cell_type": "code",
   "execution_count": 12,
   "metadata": {},
   "outputs": [
    {
     "name": "stdout",
     "output_type": "stream",
     "text": [
      "erro: arquivo não encontrado ou não pode ser salvo.\n"
     ]
    }
   ],
   "source": [
    "# utilizando try e else\n",
    "try:\n",
    "    f =open('arquivos/testandoErros','r')\n",
    "except IOError:\n",
    "    print(\"erro: arquivo não encontrado ou não pode ser salvo.\")\n",
    "else:\n",
    "    print(\"conteudo gravado\")\n",
    "    f.close()"
   ]
  },
  {
   "cell_type": "code",
   "execution_count": 11,
   "metadata": {
    "scrolled": true
   },
   "outputs": [
    {
     "name": "stdout",
     "output_type": "stream",
     "text": [
      "conteudo gravado\n",
      "comandos no bloco finally\n"
     ]
    }
   ],
   "source": [
    "# utilizando try, except, else\n",
    "try:\n",
    "    f =open('arquivos/testandoErros.txt','w')\n",
    "    f.write('Gravando no arquivo')\n",
    "except IOError:\n",
    "    print(\"erro: arquivo não encontrado ou não pode ser salvo.\")\n",
    "else:\n",
    "    print(\"conteudo gravado\")\n",
    "    f.close()\n",
    "finally:\n",
    "    print('comandos no bloco finally')"
   ]
  },
  {
   "cell_type": "code",
   "execution_count": 23,
   "metadata": {},
   "outputs": [],
   "source": [
    "def askint():\n",
    "    try:\n",
    "        val =int(input('digite um numero:'))\n",
    "    except:\n",
    "        print(\"você não digitou um numero!\")\n",
    "        val= int(input('tente novamente, digite um numero:'))\n",
    "    finally:\n",
    "        print('obrigado!')\n",
    "    print(val)"
   ]
  },
  {
   "cell_type": "code",
   "execution_count": 24,
   "metadata": {},
   "outputs": [
    {
     "name": "stdout",
     "output_type": "stream",
     "text": [
      "digite um numero:g\n",
      "você não digitou um numero!\n",
      "tente novamente, digite um numero:45\n",
      "obrigado!\n",
      "45\n"
     ]
    }
   ],
   "source": [
    "askint()"
   ]
  },
  {
   "cell_type": "code",
   "execution_count": null,
   "metadata": {},
   "outputs": [],
   "source": [
    "def askint():\n",
    "    while True:\n",
    "        try:\n",
    "            val =int(input(\"digite um numero:\"))\n",
    "        except:\n",
    "            print(\"você não digitou um numero!\")\n",
    "            continue\n",
    "        else:\n",
    "            print(\"obrigado por digitar um numero\")\n",
    "        finally:\n",
    "            print('fim da execução!')\n",
    "        print(val)"
   ]
  },
  {
   "cell_type": "code",
   "execution_count": null,
   "metadata": {},
   "outputs": [],
   "source": [
    "askint()"
   ]
  },
  {
   "cell_type": "code",
   "execution_count": null,
   "metadata": {},
   "outputs": [],
   "source": []
  }
 ],
 "metadata": {
  "kernelspec": {
   "display_name": "Python 3",
   "language": "python",
   "name": "python3"
  },
  "language_info": {
   "codemirror_mode": {
    "name": "ipython",
    "version": 3
   },
   "file_extension": ".py",
   "mimetype": "text/x-python",
   "name": "python",
   "nbconvert_exporter": "python",
   "pygments_lexer": "ipython3",
   "version": "3.6.5"
  }
 },
 "nbformat": 4,
 "nbformat_minor": 2
}
