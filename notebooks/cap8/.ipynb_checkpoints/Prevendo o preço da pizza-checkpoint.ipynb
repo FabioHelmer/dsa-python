{
 "cells": [
  {
   "cell_type": "markdown",
   "metadata": {},
   "source": [
    "## Prevendo o Preço da Pizza\n",
    "\n",
    "Suponha que você queira prever o preço da pizza. Para isso, vamos criar um modelo de regressão linear para prever o preço da pizza, baseado em um atributo da pizza que podemos observar. Vamos modelar a relação entre o tamanho (diâmetro) de uma pizza e seu preço. Escreveremos então um programa com sckit-learn, que prevê o preço da pizza dado seu tamanho."
   ]
  },
  {
   "cell_type": "code",
   "execution_count": 2,
   "metadata": {},
   "outputs": [],
   "source": [
    "# importando matplotlib e numpy\n",
    "import matplotlib.pyplot as plt\n",
    "import numpy as np\n",
    "from pandas import DataFrame\n",
    "%matplotlib inline"
   ]
  },
  {
   "cell_type": "markdown",
   "metadata": {},
   "source": [
    "#### vamos supor que você registrou o tamanho e preço de pizzas que você comeu nos ultimos meses com a sua familia"
   ]
  },
  {
   "cell_type": "code",
   "execution_count": 9,
   "metadata": {},
   "outputs": [
    {
     "data": {
      "text/html": [
       "<div>\n",
       "<style scoped>\n",
       "    .dataframe tbody tr th:only-of-type {\n",
       "        vertical-align: middle;\n",
       "    }\n",
       "\n",
       "    .dataframe tbody tr th {\n",
       "        vertical-align: top;\n",
       "    }\n",
       "\n",
       "    .dataframe thead th {\n",
       "        text-align: right;\n",
       "    }\n",
       "</style>\n",
       "<table border=\"1\" class=\"dataframe\">\n",
       "  <thead>\n",
       "    <tr style=\"text-align: right;\">\n",
       "      <th></th>\n",
       "      <th>Diametro</th>\n",
       "      <th>Preço</th>\n",
       "    </tr>\n",
       "    <tr>\n",
       "      <th>instância</th>\n",
       "      <th></th>\n",
       "      <th></th>\n",
       "    </tr>\n",
       "  </thead>\n",
       "  <tbody>\n",
       "    <tr>\n",
       "      <th>1</th>\n",
       "      <td>7</td>\n",
       "      <td>8.0</td>\n",
       "    </tr>\n",
       "    <tr>\n",
       "      <th>2</th>\n",
       "      <td>10</td>\n",
       "      <td>11.0</td>\n",
       "    </tr>\n",
       "    <tr>\n",
       "      <th>3</th>\n",
       "      <td>15</td>\n",
       "      <td>16.0</td>\n",
       "    </tr>\n",
       "    <tr>\n",
       "      <th>4</th>\n",
       "      <td>30</td>\n",
       "      <td>38.5</td>\n",
       "    </tr>\n",
       "    <tr>\n",
       "      <th>5</th>\n",
       "      <td>45</td>\n",
       "      <td>52.0</td>\n",
       "    </tr>\n",
       "  </tbody>\n",
       "</table>\n",
       "</div>"
      ],
      "text/plain": [
       "           Diametro  Preço\n",
       "instância                 \n",
       "1                 7    8.0\n",
       "2                10   11.0\n",
       "3                15   16.0\n",
       "4                30   38.5\n",
       "5                45   52.0"
      ]
     },
     "execution_count": 9,
     "metadata": {},
     "output_type": "execute_result"
    }
   ],
   "source": [
    "tabela={'instância':[1,2,3,4,5],\n",
    "       'Diametro':[7,10,15,30,45],\n",
    "       'Preço':[8,11,16,38.5,52]}\n",
    "data = DataFrame(tabela)\n",
    "data.set_index('instância')"
   ]
  },
  {
   "cell_type": "code",
   "execution_count": 13,
   "metadata": {},
   "outputs": [],
   "source": [
    "#diametro\n",
    "diametros = [[7],[10],[15],[30],[45]]\n",
    "#preços\n",
    "precos = [[8],[11],[16],[38.5],[52]]"
   ]
  },
  {
   "cell_type": "markdown",
   "metadata": {},
   "source": [
    "### vamos visualizar estes dados construindo um plot"
   ]
  },
  {
   "cell_type": "code",
   "execution_count": 14,
   "metadata": {},
   "outputs": [
    {
     "data": {
      "image/png": "[encoded data removed]",
      "text/plain": [
       "<Figure size 432x288 with 1 Axes>"
      ]
     },
     "metadata": {},
     "output_type": "display_data"
    }
   ],
   "source": [
    "plt.figure()\n",
    "plt.xlabel('Diâmetro(cm)')\n",
    "plt.ylabel('Preço(R$)')\n",
    "plt.title('Diâmetro por Preço')\n",
    "plt.plot(diametros,precos,'k.')\n",
    "plt.axis([0,60,0,60])\n",
    "plt.grid(True)\n",
    "plt.show()"
   ]
  },
  {
   "cell_type": "markdown",
   "metadata": {},
   "source": [
    "### pelo grafico podemos ver que existe uma relação positiva entre o diametro da pizza e seu preço ( o que é confirmado pela experinência de comer pizza com sua familia).À medida que o diametro da pizza aumenta, gerealmente aumenta tambe, o preçoo da pizza."
   ]
  },
  {
   "cell_type": "markdown",
   "metadata": {},
   "source": [
    "### vamos agora modelar o relacionamento usando regressão linear criar modelo para prever o preço da Pizza."
   ]
  },
  {
   "cell_type": "markdown",
   "metadata": {},
   "source": [
    "### A classe Sklearn.linear_model.LinearRegression é um estimador. Um estimador prevê um valor baseado em dados observados. Em scikit-learn, todos os estimadores implementam os metodos fit() e predict(). O motodo fit() é usado para aprender os parametros de um modelo e o metodo predict() é usado para prever o valor de uma variavel dependente em relação a uma variavel explanatoria usando os parametros aprendidos."
   ]
  },
  {
   "cell_type": "code",
   "execution_count": 15,
   "metadata": {},
   "outputs": [],
   "source": [
    "# importando o modulo de regressão linear do scikit-learn\n",
    "from sklearn.linear_model import LinearRegression"
   ]
  },
  {
   "cell_type": "code",
   "execution_count": 16,
   "metadata": {},
   "outputs": [],
   "source": [
    "# prevparando os dados de treino \n",
    "\n",
    "#vamos chamar de x os dados de diametro da pizza.\n",
    "x=[[7],[10],[15],[30],[45]]\n",
    "\n",
    "# vamos chamar de y os dados de preço da pizza\n",
    "y=[[8],[11],[16],[38.5],[52]]"
   ]
  },
  {
   "cell_type": "code",
   "execution_count": 17,
   "metadata": {},
   "outputs": [],
   "source": [
    "#criar o modelo\n",
    "modelo = LinearRegression()"
   ]
  },
  {
   "cell_type": "code",
   "execution_count": 18,
   "metadata": {},
   "outputs": [
    {
     "data": {
      "text/plain": [
       "sklearn.linear_model.base.LinearRegression"
      ]
     },
     "execution_count": 18,
     "metadata": {},
     "output_type": "execute_result"
    }
   ],
   "source": [
    "type(modelo)"
   ]
  },
  {
   "cell_type": "code",
   "execution_count": 19,
   "metadata": {},
   "outputs": [
    {
     "data": {
      "text/plain": [
       "LinearRegression(copy_X=True, fit_intercept=True, n_jobs=1, normalize=False)"
      ]
     },
     "execution_count": 19,
     "metadata": {},
     "output_type": "execute_result"
    }
   ],
   "source": [
    "# treinamento do modelo\n",
    "modelo.fit(x,y)"
   ]
  },
  {
   "cell_type": "code",
   "execution_count": 29,
   "metadata": {},
   "outputs": [
    {
     "name": "stdout",
     "output_type": "stream",
     "text": [
      "uma pizza de 20 cm de diametro deve custar: R$23.41\n"
     ]
    }
   ],
   "source": [
    "# prevendo o preço de uma pizza de 20 cm de diametro\n",
    "print(\"uma pizza de 20 cm de diametro deve custar: R$%.2f\" % modelo.predict([20][0]))"
   ]
  },
  {
   "cell_type": "markdown",
   "metadata": {},
   "source": [
    "### O método fit() do módulo LinearRegression aprende os parâmetros do seguinte modelo de regressão linear simples:"
   ]
  },
  {
   "cell_type": "code",
   "execution_count": 28,
   "metadata": {},
   "outputs": [
    {
     "data": {
      "image/png": "[encoded data removed]",
      "text/plain": [
       "<IPython.core.display.Image object>"
      ]
     },
     "execution_count": 28,
     "metadata": {},
     "output_type": "execute_result"
    }
   ],
   "source": [
    "from IPython.display import Image\n",
    "Image('linear.png')"
   ]
  },
  {
   "cell_type": "markdown",
   "metadata": {},
   "source": [
    "### Y – é o valor previsto da variável dependente (em nosso exemplo o preço da Pizza)\n",
    "### X – é a variável explanatória (em nosso exemplo o diâmetro da Pizza)\n",
    "### Alfa é o termo de intercepção ou coeficiente linear\n",
    "### Beta é o coeficiente de cada variável ou coeficiente angular\n",
    "### Alfa e Beta são parâmetros do modelo que são aprendidos pelo algoritmo de aprendizagem."
   ]
  },
  {
   "cell_type": "markdown",
   "metadata": {},
   "source": [
    "## Construindo um Scatter Plot"
   ]
  },
  {
   "cell_type": "code",
   "execution_count": 30,
   "metadata": {},
   "outputs": [
    {
     "name": "stdout",
     "output_type": "stream",
     "text": [
      "Coeficientes: \n",
      " [[1.20422117]]\n",
      "MSE: 2.74\n",
      "Score de variação: 0.99\n"
     ]
    }
   ],
   "source": [
    "#coeficientes\n",
    "print('Coeficientes: \\n',modelo.coef_)\n",
    "\n",
    "#MSE (mean square error)\n",
    "print('MSE: %.2f' % np.mean((modelo.predict(x)-y)**2))\n",
    "\n",
    "#Score de variação: 1 representa  predição perfeita\n",
    "print('Score de variação: %.2f' % modelo.score(x,y))"
   ]
  },
  {
   "cell_type": "code",
   "execution_count": 31,
   "metadata": {},
   "outputs": [
    {
     "data": {
      "image/png": "[encoded data removed]",
      "text/plain": [
       "<Figure size 432x288 with 1 Axes>"
      ]
     },
     "metadata": {},
     "output_type": "display_data"
    }
   ],
   "source": [
    "#Scatter Pot representação a regressão linear\n",
    "plt.scatter(x,y,color='black')\n",
    "plt.plot(x,modelo.predict(x),color='blue',linewidth=3)\n",
    "plt.xlabel('x')\n",
    "plt.ylabel('y')\n",
    "plt.xticks(())\n",
    "plt.yticks(())\n",
    "\n",
    "plt.show()"
   ]
  },
  {
   "cell_type": "code",
   "execution_count": null,
   "metadata": {},
   "outputs": [],
   "source": []
  }
 ],
 "metadata": {
  "kernelspec": {
   "display_name": "Python 3",
   "language": "python",
   "name": "python3"
  },
  "language_info": {
   "codemirror_mode": {
    "name": "ipython",
    "version": 3
   },
   "file_extension": ".py",
   "mimetype": "text/x-python",
   "name": "python",
   "nbconvert_exporter": "python",
   "pygments_lexer": "ipython3",
   "version": "3.6.5"
  }
 },
 "nbformat": 4,
 "nbformat_minor": 2
}
