{
 "cells": [
  {
   "cell_type": "code",
   "execution_count": 115,
   "metadata": {},
   "outputs": [],
   "source": [
    "import matplotlib.pylab as plt\n",
    "%matplotlib notebook"
   ]
  },
  {
   "cell_type": "code",
   "execution_count": null,
   "metadata": {},
   "outputs": [],
   "source": [
    "#remove oa rquivo com o banco de dados SQLite(caso exista )\n",
    "import os\n",
    "os.remove(\"dsa.db\") if os.path.exists(\"dsa.db\") else None"
   ]
  },
  {
   "cell_type": "code",
   "execution_count": 100,
   "metadata": {},
   "outputs": [],
   "source": [
    "# pegando nomes \n",
    "file = open('arquivos/nomes.txt', encoding='UTF8')\n",
    "data_nomes={}\n",
    "i=0\n",
    "for linha in file:\n",
    "    data_nomes[i]=linha[:-1]\n",
    "    i+=1\n",
    "\n"
   ]
  },
  {
   "cell_type": "code",
   "execution_count": 120,
   "metadata": {},
   "outputs": [],
   "source": [
    "import sqlite3\n",
    "import datetime\n",
    "import random\n",
    "#criando uma conexão\n",
    "conn = sqlite3.connect(\"dsa.db\")\n",
    "\n",
    "#criando um cursor\n",
    "c=conn.cursor()\n",
    "\n",
    "#função para criar uma  tabela\n",
    "def create_table():\n",
    "    c.execute('CREATE TABLE IF NOT EXISTS notas(id INTEGER primary key AUTOINCREMENT NOT NULL,'\\\n",
    "    'date TEXT, user_name TEXT, nota REAL)')\n",
    "    \n",
    "\n",
    "    #função para inserir uma linha \n",
    "def data_insert():\n",
    "    r = random.randrange(0,271)\n",
    "    produto = data_nomes[r]\n",
    "    valor= random.randrange(20,200)\n",
    "    c.execute(\"INSERT INTO notas(date,user_name,nota) VALUES(?,?,?)\",(datetime.datetime.now(),produto,valor))\n",
    "    conn.commit()\n",
    "def remove_data():\n",
    "    c.execute(\"DROP TABLE notas \")\n",
    "    \n",
    "    \n",
    "        "
   ]
  },
  {
   "cell_type": "code",
   "execution_count": 123,
   "metadata": {},
   "outputs": [],
   "source": [
    "#criar tabela\n",
    "create_table()"
   ]
  },
  {
   "cell_type": "code",
   "execution_count": 124,
   "metadata": {},
   "outputs": [],
   "source": [
    "#inserir na tabela\n",
    "for i in range(10):\n",
    "    data_insert()"
   ]
  },
  {
   "cell_type": "code",
   "execution_count": 121,
   "metadata": {},
   "outputs": [],
   "source": [
    "remove_data()"
   ]
  },
  {
   "cell_type": "code",
   "execution_count": 125,
   "metadata": {},
   "outputs": [],
   "source": [
    "c.execute(\"SELECT * FROM notas\")\n",
    "data = c.fetchall()"
   ]
  },
  {
   "cell_type": "code",
   "execution_count": 126,
   "metadata": {},
   "outputs": [
    {
     "name": "stdout",
     "output_type": "stream",
     "text": [
      "Flameelven --> 170.0 \n",
      "Sniper --> 105.0 \n",
      "Menina Ideal --> 166.0 \n",
      "Girl Power --> 36.0 \n",
      "Falcão --> 191.0 \n",
      "Mayhem --> 76.0 \n",
      "Big Bang --> 47.0 \n",
      "Giah --> 109.0 \n",
      "Skipper --> 91.0 \n",
      "Dra Pirilau --> 129.0 \n"
     ]
    }
   ],
   "source": [
    "for i in data:\n",
    "    print('{} --> {} '.format(i[2],i[3]))"
   ]
  },
  {
   "cell_type": "code",
   "execution_count": 132,
   "metadata": {},
   "outputs": [
    {
     "data": {
      "image/png": "[encoded data removed]",
      "text/plain": [
       "<Figure size 432x288 with 1 Axes>"
      ]
     },
     "metadata": {},
     "output_type": "display_data"
    }
   ],
   "source": [
    "#gerando grafico com os dados no banco de dados\n",
    "def dados_grafico():\n",
    "    nomes=[]\n",
    "    notas=[]\n",
    "    for linha in data:\n",
    "        nomes.append(linha[2])\n",
    "        notas.append(linha[3])\n",
    "    plt.bar(nomes,notas)\n",
    "    plt.xticks(rotation=90)\n",
    "    plt.show()\n",
    "dados_grafico()"
   ]
  },
  {
   "cell_type": "code",
   "execution_count": 45,
   "metadata": {},
   "outputs": [],
   "source": [
    "c.close()\n",
    "conn.close()"
   ]
  },
  {
   "cell_type": "code",
   "execution_count": null,
   "metadata": {},
   "outputs": [],
   "source": []
  }
 ],
 "metadata": {
  "kernelspec": {
   "display_name": "Python 3",
   "language": "python",
   "name": "python3"
  },
  "language_info": {
   "codemirror_mode": {
    "name": "ipython",
    "version": 3
   },
   "file_extension": ".py",
   "mimetype": "text/x-python",
   "name": "python",
   "nbconvert_exporter": "python",
   "pygments_lexer": "ipython3",
   "version": "3.6.5"
  }
 },
 "nbformat": 4,
 "nbformat_minor": 2
}
