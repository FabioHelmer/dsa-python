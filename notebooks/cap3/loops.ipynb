{
 "cells": [
  {
   "cell_type": "markdown",
   "metadata": {},
   "source": [
    "# Loops"
   ]
  },
  {
   "cell_type": "code",
   "execution_count": 1,
   "metadata": {},
   "outputs": [
    {
     "name": "stdout",
     "output_type": "stream",
     "text": [
      "2\n",
      "3\n",
      "4\n"
     ]
    }
   ],
   "source": [
    "tp =(2,3,4)\n",
    "for i in tp:\n",
    "    print(i)"
   ]
  },
  {
   "cell_type": "code",
   "execution_count": 3,
   "metadata": {},
   "outputs": [
    {
     "name": "stdout",
     "output_type": "stream",
     "text": [
      "0\n",
      "1\n",
      "2\n",
      "3\n",
      "4\n",
      "5\n"
     ]
    }
   ],
   "source": [
    "# fazendo um contador\n",
    "for i in range(0,6):\n",
    "    print(i)"
   ]
  },
  {
   "cell_type": "code",
   "execution_count": 4,
   "metadata": {},
   "outputs": [
    {
     "name": "stdout",
     "output_type": "stream",
     "text": [
      "0\n",
      "2\n",
      "4\n",
      "6\n",
      "8\n",
      "10\n"
     ]
    }
   ],
   "source": [
    "# imprimindo numeros pares\n",
    "for i in range(0,11):\n",
    "    if((i%2)==0):\n",
    "        print(i)"
   ]
  },
  {
   "cell_type": "code",
   "execution_count": 6,
   "metadata": {},
   "outputs": [
    {
     "name": "stdout",
     "output_type": "stream",
     "text": [
      "0\n",
      "3\n",
      "6\n",
      "9\n",
      "12\n",
      "15\n",
      "18\n"
     ]
    }
   ],
   "source": [
    "#terceiro parametro no range é o tanto que le adiciona\n",
    "for i in range(0,20,3):\n",
    "    print(i)"
   ]
  },
  {
   "cell_type": "code",
   "execution_count": 45,
   "metadata": {},
   "outputs": [
    {
     "name": "stdout",
     "output_type": "stream",
     "text": [
      "F\n",
      "A\n",
      "B\n",
      "I\n",
      "O\n",
      " \n",
      "H\n",
      "E\n",
      "L\n",
      "M\n",
      "E\n",
      "R\n"
     ]
    }
   ],
   "source": [
    "for caracter in (\"fabio helmer\"):\n",
    "    print(caracter.upper())"
   ]
  },
  {
   "cell_type": "code",
   "execution_count": 41,
   "metadata": {},
   "outputs": [
    {
     "name": "stdout",
     "output_type": "stream",
     "text": [
      "lista\n"
     ]
    },
    {
     "data": {
      "text/plain": [
       "dict_items([('a', {1: 11, 2: 12, 3: 13, 4: 14, 5: 15, 6: 16}), ('b', {1: 11, 2: 12, 3: 13, 4: 14, 5: 15, 6: 16}), ('c', {1: 11, 2: 12, 3: 13, 4: 14, 5: 15, 6: 16}), ('d', {1: 11, 2: 12, 3: 13, 4: 14, 5: 15, 6: 16}), ('e', {1: 11, 2: 12, 3: 13, 4: 14, 5: 15, 6: 16}), ('f', {1: 11, 2: 12, 3: 13, 4: 14, 5: 15, 6: 16})])"
      ]
     },
     "execution_count": 41,
     "metadata": {},
     "output_type": "execute_result"
    }
   ],
   "source": [
    "listai=[\"a\",\"b\",\"c\",\"d\",\"e\",\"f\"]\n",
    "listak=[11,12,13,14,15,16]\n",
    "lista={}\n",
    "var = {}\n",
    "for i in listai:\n",
    "    m=1\n",
    "    for k in listak:\n",
    "        var[m]=k\n",
    "        m+=1\n",
    "    lista[i]=var       \n",
    "\n",
    "print(\"lista\")\n",
    "lista.items()\n"
   ]
  },
  {
   "cell_type": "code",
   "execution_count": 44,
   "metadata": {},
   "outputs": [
    {
     "name": "stdout",
     "output_type": "stream",
     "text": [
      "[1, 2, 3]\n",
      "[4, 5, 6]\n"
     ]
    }
   ],
   "source": [
    "vet=[[1,2,3],[4,5,6]]\n",
    "for v in vet:\n",
    "    print(v)"
   ]
  },
  {
   "cell_type": "code",
   "execution_count": 49,
   "metadata": {},
   "outputs": [
    {
     "name": "stdout",
     "output_type": "stream",
     "text": [
      "fabio\n",
      "felipe\n",
      "fernanda\n"
     ]
    }
   ],
   "source": [
    "lista=[\"fabio\",\"felipe\",\"fernanda\"]\n",
    "for i in lista:\n",
    "    print(i)"
   ]
  },
  {
   "cell_type": "code",
   "execution_count": null,
   "metadata": {},
   "outputs": [],
   "source": []
  }
 ],
 "metadata": {
  "kernelspec": {
   "display_name": "Python 3",
   "language": "python",
   "name": "python3"
  },
  "language_info": {
   "codemirror_mode": {
    "name": "ipython",
    "version": 3
   },
   "file_extension": ".py",
   "mimetype": "text/x-python",
   "name": "python",
   "nbconvert_exporter": "python",
   "pygments_lexer": "ipython3",
   "version": "3.6.5"
  }
 },
 "nbformat": 4,
 "nbformat_minor": 2
}
