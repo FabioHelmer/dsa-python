{
 "cells": [
  {
   "cell_type": "markdown",
   "metadata": {},
   "source": [
    "# IF ELSE"
   ]
  },
  {
   "cell_type": "code",
   "execution_count": 3,
   "metadata": {},
   "outputs": [
    {
     "name": "stdout",
     "output_type": "stream",
     "text": [
      "hello word\n"
     ]
    }
   ],
   "source": [
    "if(True):\n",
    "    print(\"hello word\")\n",
    "else:\n",
    "    print(\"astaluelo\")"
   ]
  },
  {
   "cell_type": "code",
   "execution_count": 11,
   "metadata": {},
   "outputs": [
    {
     "name": "stdout",
     "output_type": "stream",
     "text": [
      "ja e um adolecente\n"
     ]
    }
   ],
   "source": [
    "idade=17\n",
    "nome=\"fabio\"\n",
    "if(idade>18):\n",
    "    if(nome==\"fabio\"):\n",
    "        print(nome,idade)\n",
    "elif(idade<15):\n",
    "    print(\"ola bebe\")\n",
    "else:\n",
    "    print(\"ja e um adolecente\")"
   ]
  },
  {
   "cell_type": "code",
   "execution_count": 23,
   "metadata": {},
   "outputs": [
    {
     "name": "stdout",
     "output_type": "stream",
     "text": [
      "materia->matematica\n",
      "sua nota->3\n",
      "sorry, reproveted\n"
     ]
    }
   ],
   "source": [
    "materia =input(\"materia->\")\n",
    "if(materia==\"matematica\"):\n",
    "    nota = float(input(\"sua nota->\"))\n",
    "    if(nota>=9):\n",
    "        print(\"aproveted\")\n",
    "    else:print(\"sorry, reproveted\")    \n",
    "else: print(\"não consta no sistema\")"
   ]
  }
 ],
 "metadata": {
  "kernelspec": {
   "display_name": "Python 3",
   "language": "python",
   "name": "python3"
  },
  "language_info": {
   "codemirror_mode": {
    "name": "ipython",
    "version": 3
   },
   "file_extension": ".py",
   "mimetype": "text/x-python",
   "name": "python",
   "nbconvert_exporter": "python",
   "pygments_lexer": "ipython3",
   "version": "3.6.5"
  }
 },
 "nbformat": 4,
 "nbformat_minor": 2
}
